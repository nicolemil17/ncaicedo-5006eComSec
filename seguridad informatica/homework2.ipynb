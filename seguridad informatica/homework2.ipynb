{
 "cells": [
  {
   "cell_type": "markdown",
   "id": "fd5a98af-5346-42d6-b5f9-a268bb59928b",
   "metadata": {},
   "source": [
    "# Homework 2\n",
    "## Exercise 1:\n",
    "### 1.- Suppose a password is chosen as a concatenation of seven lower-case dictionary words. Each word is selected uniformly at random from a dictionary of size 50,000. An example of such a password is \"mothercathousefivenextcrossroom\". How many bits of entropy does this have?"
   ]
  },
  {
   "cell_type": "markdown",
   "id": "961f096c-f2d2-4b9e-aeec-247116419693",
   "metadata": {},
   "source": [
    "To calculate the entropy of a password with this formula:\n",
    "\n",
    "log2(N^L)\n",
    "\n",
    "where N is the size of the character set and L is the length of the password\n",
    "\n",
    "N= 50000 L=7\n",
    "\n",
    "Entropy= log2(50000^7)\n",
    "\n",
    "Entropy= 7*log2(50000)\n",
    "\n",
    "Entropy = 7 * 15.6096 \n",
    "\n",
    "Entropy = 109.2672 bits aprox\n"
   ]
  },
  {
   "cell_type": "markdown",
   "id": "ff87b0cc-ef15-40be-bdcd-53d73e6074cf",
   "metadata": {},
   "source": [
    "### 2.- Consider an alternative scheme where a password is chosen as a sequence of 10 random alphanumeric characters (including both lower-case and upper-case letters). An example is \"dA3mG67Rrs\". How many bits of entropy does this have?"
   ]
  },
  {
   "cell_type": "markdown",
   "id": "3fb3eeff-e49d-41b7-8a19-ae800d4d12f5",
   "metadata": {},
   "source": [
    "N = 26 LOWERCASELETTERS + 26 UPPERCASE LETTERS + 10 DIGITS = 62\n",
    "\n",
    "L = 10\n",
    "\n",
    "Entropy= losg2(62^10)\n",
    "\n",
    "Entropy = 10 * log2(62)\n",
    "\n",
    "Entropy = 10 * 5.9542 \n",
    "\n",
    "Entropy = 59.542 bits "
   ]
  },
  {
   "cell_type": "markdown",
   "id": "480b6734-b42d-4f98-a4c8-4b6c022a8d31",
   "metadata": {},
   "source": [
    "### 3.- Which password is better, the one from 1. or 2.?"
   ]
  },
  {
   "cell_type": "markdown",
   "id": "bfc63d8e-7415-4229-8885-b83d8ae461fa",
   "metadata": {},
   "source": [
    "Second password is better because it has better strenghth and security because it has a higher entropy. Higher entropy indicates a stonger password because it means there are more possible combinations and it would be more resistant to brute force attacks. The second password is shorter but uses a larger character set and random characters, which makes it stronger than the first password."
   ]
  },
  {
   "cell_type": "markdown",
   "id": "fd4a4605-042e-401f-b6da-e71fbf8ea503",
   "metadata": {},
   "source": [
    "## Exercise 2:\n",
    "### 1.-Design a data verification system using hash functions. Explain the steps involved in the process."
   ]
  },
  {
   "cell_type": "markdown",
   "id": "dc596aeb-58e7-451b-ae3b-c01178bc94ce",
   "metadata": {},
   "source": [
    "Step 1: Select a Hash Function\n",
    "\n",
    "We have to choose a suitable cryptographic hash function. The choice of hash function depends on the desired level of security\n",
    "\n",
    "Step 2: Data Hashing\n",
    "\n",
    "Prepare the data that you want to verify. Lets say its a message. \n",
    "\n",
    "Input the data into the selected hash function. The hash function will generate a fixed-length hash value unique to the input data.\n",
    "\n",
    "Step 3: Data Storage\n",
    "\n",
    "Store the generated hash value securely\n",
    "\n",
    "Step 4: Data Transmission or Storage\n",
    "ensure it remains intact during transit or storage. Any alteration in the data can be and will be detected using the hash value.\n",
    "\n",
    "Step 5: Data Retrieval and Verification\n",
    "\n",
    "Retrieve the data you want to verify from storage or receive it from a source you trust.\n",
    "\n",
    "Input the retrieved data into the same hash function used in Step 2 to recalculate the hash value.\n",
    "\n",
    "Step 6: Compare Hash Values\n",
    "\n",
    "Compare the recalculated hash value from Step 5 with the stored reference hash value from Step 3. \n",
    "\n",
    "If the two hash values match, it means that the data has not been altered, so its integrity is confirmed.\n",
    "If the hash values do not match, it indicates that the data has been tampered with or modified in some way by a third person.\n",
    "\n",
    "Step 7: Response to Mismatch\n",
    "\n",
    "In a data verification system, you might flag the data as compromised and initiate a data recovery process.\n",
    "Maybe trigger an alert or initiate an incident response to investigate and mitigate potential security breaches.\n",
    "\n",
    "Step 8: Regular Verification\n",
    "\n",
    "We should regularly repeat the process of verification , keeping any update of security breaches."
   ]
  },
  {
   "cell_type": "markdown",
   "id": "acca0b60-a41b-4b49-8074-a9d1159033d8",
   "metadata": {},
   "source": [
    "### 2.- Discuss the advantages and disadvantages of using hash functions for data verification."
   ]
  },
  {
   "cell_type": "markdown",
   "id": "fd275858-d2cf-4818-84c1-170606277f20",
   "metadata": {},
   "source": [
    "Advantages:\n",
    "\n",
    "Fast computation: hash functions are designed to be efficient . They can generate a fixed-size hash value from a input relatively very quickly. Which makes them suitable for real-time verification.\n",
    "\n",
    "Collision resistance: it minimizes the likelihood of two different inputs producing the same hash value, which makes it reliable for data verification\n",
    "\n",
    "They ae good for verifying data integrity because they comparethe hash received data with the precomputed hash, any alter\n"
   ]
  },
  {
   "cell_type": "markdown",
   "id": "fbc9f274-5ce7-42aa-97bb-a0123c3f6244",
   "metadata": {},
   "source": [
    "### 3.- Provide an example of a real-world application where a data verification system using hash functions is used."
   ]
  },
  {
   "cell_type": "markdown",
   "id": "7b541b61-1f3a-4da1-851b-61002eeb438e",
   "metadata": {},
   "source": [
    "When downloading a software or updating an app from internet. We always want to make sure that the file has not been tampered and there is where the hash functions are used. \n",
    "The provider of the file generates a cryptographic hash value for the original file. This hash value is unique to the file's contents.Then we download the file from the internet to our computer. After downloading, we can calculate the hash value of the downloaded file using the same hash function. We then compare the calculated hash with the original hash provided by the file's provider\n",
    "\n",
    "If the two hash values match, it indicates that the downloaded file is identical to the original, and it has not been altered during the download process. This ensures the integrity of the downloaded data"
   ]
  },
  {
   "cell_type": "markdown",
   "id": "7dd8f6ff-6510-4f3c-a2ef-a7ccef0c8ed9",
   "metadata": {},
   "source": [
    "## Exercise 3:\n",
    "### 1.- Define what a Message Authentication Code (MAC) is and how it is used in cryptography.\n"
   ]
  },
  {
   "cell_type": "markdown",
   "id": "39f96c34-b3ce-4831-bcee-4dbe3105347e",
   "metadata": {},
   "source": [
    "It is a cryptographic tecnique used to ensure the integrity and authenticity of a message or a piece of data. It is ashort piece of information generated. This code is addesd to the mmesage and sent together with it. The recipient of the message can use the same secrete ky to generate de MAC for the message that s recreived and compare it to the one received. f the two MACs match, it provides assurance that the message has not been tampered with during transmission and that it was indeed generated by the party holding the secret key. \n",
    "\n",
    "In gryptography it is used for \n",
    "\n",
    "Authentication: They authenticate the source of the message. If the MAC matches, it demonstrates that the message came from a party with knowledge of the secret key\n",
    "\n",
    "Secure Communication: In secure communication protocols like SSL/TLS, MACs are used to protect the integrity and authenticity of transmitted data, preventing data tampering and man-in-the-middle attacks.\n",
    "\n",
    "Message Freshness: MACs can also be used to ensure the freshness of a message, meaning that it's a recent, unique message and not a replay of an old one\n",
    "\n"
   ]
  },
  {
   "cell_type": "markdown",
   "id": "3607b310-3582-4cb7-8e41-5329fd345d0e",
   "metadata": {},
   "source": [
    "### 2.- Explain the process of generating and verifying a MAC."
   ]
  },
  {
   "cell_type": "markdown",
   "id": "fb10a593-74c8-4f03-b6c1-e0d2ecc46b7b",
   "metadata": {},
   "source": [
    "For generating a MAC\n",
    "\n",
    "Firt, the sender has a message to send, a secret key and MAC algorithm \n",
    "\n",
    "The sender combines the message with the secret key. It usually involves bitwise operations, such as XOR, followed by applying a hash function.\n",
    "\n",
    "The combined message and key are input into the MAC algorithm. The MAC algorithm processes the input to produce a fixed-length MAC\n",
    "\n",
    "The sender adds the MAC to the original message and sends both to the receiver.\n",
    "\n",
    "For verifying a MAC\n",
    "\n",
    "he receiver has received the message and the MAC along with it, as well as the same shared secret key (K) used by the sender\n",
    "\n",
    "Like the sender, the receiver combines the received message with the shared secret key using the same process\n",
    "\n",
    "The receiver uses the same MAC algorithm, the combined message and key, and calculates a MAC\n",
    "\n",
    "Then receiver compares de calculate MAC with the received one so that we can get conclusions.\n",
    "\n",
    "Sender and receiver must use the same MAC algorithm and share the same secret key\n"
   ]
  },
  {
   "cell_type": "markdown",
   "id": "49e2c48e-02b0-47e7-ab0f-4e470269a069",
   "metadata": {},
   "source": [
    "### 3.- Discuss the importance of using MACs in secure communication systems."
   ]
  },
  {
   "cell_type": "markdown",
   "id": "915dc227-425d-449a-9209-462b237b5ba1",
   "metadata": {},
   "source": [
    "It helps us ensure the integrity of data that is transmitted. When the received MAC is verified and matches the calculated MACwe can be confident that the data has not been tampered with. This helps us also to identify tamper, to protect against reply attacks. it is also very important that MACs provide authentication without revealing the content of the message itself, which is important when the content is sensitive or confidential.  "
   ]
  },
  {
   "cell_type": "markdown",
   "id": "e21ade9d-b90b-474d-a13c-bba897788e70",
   "metadata": {},
   "source": [
    "## Exercise 4:\n",
    "### Given the values of p = 17 and q = 23, generate a pair of keys for RSA."
   ]
  },
  {
   "cell_type": "markdown",
   "id": "b573416f-26cb-4239-a488-65376dbb5f92",
   "metadata": {},
   "source": [
    "p = 17 and q = 23\n",
    "\n",
    "n = p * q = 17 * 23 = 391\n",
    "\n",
    "φ(n) = (p - 1) * (q - 1)\n",
    "\n",
    "φ(n) = (17 - 1) * (23 - 1) = 16 * 22 = 352\n",
    "\n",
    "we need encryption key \n",
    "\n",
    "e=3\n",
    "\n",
    "(d * e) % φ(n) = 1\n",
    "\n",
    "(d * 3) % 352 = 1\n",
    "\n",
    "d = 235\n",
    "\n",
    "public key: (391, 3)\n",
    "\n",
    "Public Key (n, e): (391, 3)\n",
    "Private Key (n, d): (391, 235)\n"
   ]
  },
  {
   "cell_type": "markdown",
   "id": "d46c632f-fc8b-4db5-9f2d-721397e60d43",
   "metadata": {},
   "source": [
    "## Exercise 5:\n",
    "### 1.- Design a public key infrastructure (PKI) system. Explain the components and their roles in the system."
   ]
  },
  {
   "attachments": {
    "949cfef2-43d3-43b3-976d-34e350036ec2.png": {
     "image/png": "[encoded data removed]"
    }
   },
   "cell_type": "markdown",
   "id": "777ea320-cccf-4e51-94ab-416ef3b0c8a3",
   "metadata": {},
   "source": [
    "![imagen.png](attachment:949cfef2-43d3-43b3-976d-34e350036ec2.png)\n",
    "\n",
    "Certificate Authority\n",
    "\n",
    "The central authority responsible for issuing and managing digital certificates\n",
    "\n",
    "Registration Authority\n",
    "\n",
    "Acts as an intermediary between users and the CA, performing identity verification and certificate request validation\n",
    "\n",
    "End Users\n",
    "\n",
    "Entities or individuals who require digital certificates for secure communication and authentication\n",
    "\n",
    "Certificate Repository\n",
    "\n",
    "Stores and manages digital certificates and Certificate Revocation Lists (CRLs) in a publicly accessible location\n",
    "\n",
    "Public and Private Key Pairs\n",
    "\n",
    "Used by end users for encryption and digital signatures\n",
    "\n"
   ]
  },
  {
   "cell_type": "markdown",
   "id": "4cf191eb-51ed-401a-b895-431d925e009f",
   "metadata": {},
   "source": [
    "### 2.-Discuss the advantages and challenges of implementing a PKI system."
   ]
  },
  {
   "cell_type": "markdown",
   "id": "ab7183c0-6a97-4902-9882-90667dbad51c",
   "metadata": {},
   "source": [
    "Advantages\n",
    "\n",
    "- PKI enables secure data transmission through the use of public and private key pairs, ensuring the confidentiality and integrity of data.\n",
    "- Provides a means to digitally sign documents an messages\n",
    "-  PKI facilitates strong authentication, ensuring that users and entities can be positively identified\n",
    "-  PKI is designed to be platform-independent\n",
    "-  PKI enables secure email communication and document sharing, essential in industries where privacy and data integrity are paramount\n",
    "\n",
    "Challenges\n",
    "\n",
    "- Setting up and maintaining a PKI system can be complex and resource-intensive\n",
    "- PKI system can be costly. Costs include hardware, software, personnel, and compliance audits\n",
    "- Users may need training to understand how to generate key pairs, request and use certificates, and manage their digital identitie\n",
    "- Legal issues regarding digital signatures and compliance with regional and industry-specific regulations can be challenging to navigate\n",
    "- lost keys. key recovery mechanisms can introduce potential security risks if not done carefully"
   ]
  },
  {
   "cell_type": "markdown",
   "id": "dd4b2f37-0da5-4da6-9c31-2db7586481d4",
   "metadata": {},
   "source": [
    "### 3.- Provide an example of a real-world application where a PKI system is used."
   ]
  },
  {
   "cell_type": "markdown",
   "id": "d90e383b-e9b1-429e-b96d-b88fdba9affb",
   "metadata": {},
   "source": [
    "Digital Signatures for Document Verification and Authentication.\n",
    "\n",
    " PKI is used to ensure the authenticity and integrity of digital documents, contracts, and records. When a user wants to sign a digital document or file, they will have to use their private key to generate a digital signature for that document. The private key must be securely stored. The digital signature is attached to the document and can be shared with recipients or the public. The recipient or verifier applies the signer's public key to the digital signature, which decrypts it. If the decryption matches the hash of the original document, it verifies that the document has not been altered since signing."
   ]
  },
  {
   "cell_type": "markdown",
   "id": "550cfc40-066f-4811-8060-5464e41eab03",
   "metadata": {},
   "source": [
    "## Exercise 6:\n",
    "### Design a system for digital signatures based on public-key cryptography. Explain the steps involved in the process and the role of each component."
   ]
  },
  {
   "cell_type": "markdown",
   "id": "d12c319e-11cd-40dc-a937-acc43fba5489",
   "metadata": {},
   "source": [
    " Step 1: Key Pair Generation\n",
    "\n",
    "The Key Pair Generator generates a pair of public and private keys for each user.\n",
    "\n",
    "Step 2: Signature Generation\n",
    "\n",
    "The user selects the data they want to sign. The private key is used together with the signing algorithm to create a digital signature for the data that was selected before. \n",
    "\n",
    "Step 3: Signature Verification\n",
    "\n",
    "The user provides the data and the digital signature. The public key and verification algorithm are used to check the authenticity and integrity of the data.\n",
    "\n",
    "Step 4: Secure Transmission\n",
    "\n",
    " transmitting digitally signed data, it should be done securely using a protocol like SSL/TLS to protect the data that is in transit.\n",
    "\n",
    "Step 5: Result and Action\n",
    "\n",
    "The verifier receives the result of the digital signature verification\n",
    " "
   ]
  },
  {
   "cell_type": "code",
   "execution_count": null,
   "id": "0fb95ba8-dbdf-4c92-b8c6-0e9abe9cee18",
   "metadata": {},
   "outputs": [],
   "source": []
  }
 ],
 "metadata": {
  "kernelspec": {
   "display_name": "Python 3 (ipykernel)",
   "language": "python",
   "name": "python3"
  },
  "language_info": {
   "codemirror_mode": {
    "name": "ipython",
    "version": 3
   },
   "file_extension": ".py",
   "mimetype": "text/x-python",
   "name": "python",
   "nbconvert_exporter": "python",
   "pygments_lexer": "ipython3",
   "version": "3.10.7"
  }
 },
 "nbformat": 4,
 "nbformat_minor": 5
}
